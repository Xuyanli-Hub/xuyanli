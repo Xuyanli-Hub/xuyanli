{
 "cells": [
  {
   "cell_type": "code",
   "execution_count": 91,
   "metadata": {},
   "outputs": [],
   "source": [
    "student_list = [  \n",
    "    {'姓名': '张三', '学号': '20230501', 'GitHub仓库地址': 'https://github.com/zhangsan'},  \n",
    "    {'姓名': '李四', '学号': '20230502', 'GitHub仓库地址': 'https://github.com/lisi'},  \n",
    "    {'姓名': '王五', '学号': '20230503', 'GitHub仓库地址': 'https://github.com/wangwu'},  \n",
    "    {'姓名': '赵六', '学号': '20230504', 'GitHub仓库地址': 'https://github.com/zhaoliu'},  \n",
    "    {'姓名': '孙七', '学号': '20230505', 'GitHub仓库地址': 'https://github.com/sunqi'},  \n",
    "    {'姓名': '周八', '学号': '20230506', 'GitHub仓库地址': 'https://github.com/zhouba'},  \n",
    "    {'姓名': '吴九', '学号': '20230507', 'GitHub仓库地址': 'https://github.com/wujiu'},  \n",
    "    {'姓名': '郑十', '学号': '20230508', 'GitHub仓库地址': 'https://github.com/zhengshi'},  \n",
    "    {'姓名': '陈十一', '学号': '20230509', 'GitHub仓库地址': 'https://github.com/chenshiyi'},  \n",
    "    {'姓名': '杨十二', '学号': '20230510', 'GitHub仓库地址': 'https://github.com/yangshier'}  \n",
    "]"
   ]
  },
  {
   "cell_type": "code",
   "execution_count": 92,
   "metadata": {},
   "outputs": [
    {
     "name": "stdout",
     "output_type": "stream",
     "text": [
      "['https://github.com/zhangsan']\n"
     ]
    }
   ],
   "source": [
    "target_name = \"张三\"  # 指定要筛选的姓名  \n",
    "target_github_urls = []  # 用于存储找到的GitHub仓库地址  \n",
    "  \n",
    "for student in student_list:  \n",
    "    if student['姓名'] == target_name:  \n",
    "        target_github_urls.append(student['GitHub仓库地址'])  \n",
    "  \n",
    "print(target_github_urls)"
   ]
  },
  {
   "cell_type": "code",
   "execution_count": 93,
   "metadata": {},
   "outputs": [],
   "source": [
    "def get_repo_by_name(name,data=student_list):\n",
    "    for i in data:\n",
    "        if i[\"姓名\"]==name:\n",
    "            print(i[\"GitHub仓库地址\"])"
   ]
  },
  {
   "cell_type": "code",
   "execution_count": 94,
   "metadata": {},
   "outputs": [
    {
     "name": "stdout",
     "output_type": "stream",
     "text": [
      "https://github.com/zhangsan\n"
     ]
    }
   ],
   "source": [
    "\n",
    "get_repo_by_name(\"张三\",student_list)"
   ]
  },
  {
   "cell_type": "code",
   "execution_count": 95,
   "metadata": {},
   "outputs": [
    {
     "name": "stdout",
     "output_type": "stream",
     "text": [
      "https://github.com/zhangsan\n"
     ]
    }
   ],
   "source": [
    "get_repo_by_name(name=\"张三\", data=student_list)"
   ]
  },
  {
   "cell_type": "code",
   "execution_count": 96,
   "metadata": {},
   "outputs": [],
   "source": [
    "def get_repo_by_name2(name,data):\n",
    "    for i in data:\n",
    "        if i[\"姓名\"]==name:\n",
    "            return i[\"GitHub仓库地址\"]"
   ]
  },
  {
   "cell_type": "code",
   "execution_count": 97,
   "metadata": {},
   "outputs": [
    {
     "name": "stdout",
     "output_type": "stream",
     "text": [
      "https://github.com/zhangsan\n"
     ]
    }
   ],
   "source": [
    "print(get_repo_by_name2('张三',student_list))"
   ]
  }
 ],
 "metadata": {
  "kernelspec": {
   "display_name": "Python 3",
   "language": "python",
   "name": "python3"
  },
  "language_info": {
   "codemirror_mode": {
    "name": "ipython",
    "version": 3
   },
   "file_extension": ".py",
   "mimetype": "text/x-python",
   "name": "python",
   "nbconvert_exporter": "python",
   "pygments_lexer": "ipython3",
   "version": "3.8.10"
  },
  "orig_nbformat": 4
 },
 "nbformat": 4,
 "nbformat_minor": 2
}
