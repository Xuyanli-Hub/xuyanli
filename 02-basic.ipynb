{
 "cells": [
  {
   "cell_type": "code",
   "execution_count": 1,
   "metadata": {},
   "outputs": [
    {
     "name": "stdout",
     "output_type": "stream",
     "text": [
      "这是一个python程序\n"
     ]
    }
   ],
   "source": [
    "print('这是一个python程序')"
   ]
  },
  {
   "cell_type": "code",
   "execution_count": 2,
   "metadata": {},
   "outputs": [
    {
     "name": "stdout",
     "output_type": "stream",
     "text": [
      "初始资金：1000000 <class 'int'>\n",
      "现有资金：999990 <class 'int'>\n"
     ]
    }
   ],
   "source": [
    "#以下是对变量的练习\n",
    "\n",
    "#数字类型\n",
    "money=1000000\n",
    "#typeh函数可以查看变量的类型\n",
    "print('初始资金：'+str(money),type(money))\n",
    "money=money-10\n",
    "print('现有资金：'+str(money),type(money))"
   ]
  },
  {
   "cell_type": "code",
   "execution_count": 3,
   "metadata": {},
   "outputs": [
    {
     "name": "stdout",
     "output_type": "stream",
     "text": [
      "峨眉使用了修炼\n"
     ]
    }
   ],
   "source": [
    "# 字符串\n",
    "\n",
    "# 字符串是一种序列\n",
    "title='峨眉'\n",
    "skill='修炼'\n",
    "\n",
    "print(title+'使用了'+skill)\n"
   ]
  },
  {
   "cell_type": "code",
   "execution_count": 4,
   "metadata": {},
   "outputs": [
    {
     "name": "stdout",
     "output_type": "stream",
     "text": [
      "<class 'bool'>\n",
      "<class 'tuple'>\n",
      "<class 'list'>\n",
      "<class 'set'>\n",
      "<class 'dict'>\n"
     ]
    }
   ],
   "source": [
    "# 其他类型\n",
    "t=False\n",
    "print(type(t))\n",
    "a=(1,2,3)\n",
    "print(type(a))\n",
    "b=[1,2,3]\n",
    "print(type(b))\n",
    "c={1,2,3}\n",
    "print(type(c))\n",
    "d={'姓名':'小明','性别':'男'}\n",
    "print(type(d))"
   ]
  },
  {
   "cell_type": "code",
   "execution_count": 6,
   "metadata": {},
   "outputs": [
    {
     "data": {
      "text/plain": [
       "[1]"
      ]
     },
     "execution_count": 6,
     "metadata": {},
     "output_type": "execute_result"
    }
   ],
   "source": [
    "# 序列类型进阶\n",
    "\n",
    "b[0:1]"
   ]
  }
 ],
 "metadata": {
  "kernelspec": {
   "display_name": "Python 3",
   "language": "python",
   "name": "python3"
  },
  "language_info": {
   "codemirror_mode": {
    "name": "ipython",
    "version": 3
   },
   "file_extension": ".py",
   "mimetype": "text/x-python",
   "name": "python",
   "nbconvert_exporter": "python",
   "pygments_lexer": "ipython3",
   "version": "3.8.10"
  },
  "orig_nbformat": 4
 },
 "nbformat": 4,
 "nbformat_minor": 2
}
