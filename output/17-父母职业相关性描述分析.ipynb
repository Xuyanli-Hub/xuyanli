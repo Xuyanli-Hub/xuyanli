{
 "cells": [
  {
   "cell_type": "code",
   "execution_count": 1,
   "metadata": {},
   "outputs": [
    {
     "name": "stdout",
     "output_type": "stream",
     "text": [
      "           父亲工作  父亲职业           母亲工作  母亲职业\n",
      "0  中铁六局太原铁路建设公司    国企    鑫智点交通设施有限公司    国企\n",
      "1    凯信会议服务有限公司    民企  长城国际旅行社有限责任公司    民企\n",
      "2    银光聚银化工有限公司    国企        九亩花田蛋糕店   个体户\n",
      "3    元拓科技咨询有限公司    民企   中国平安财险股份有限公司    民企\n",
      "4       市广播电视大学  事业单位          市实验中学  事业单位\n"
     ]
    }
   ],
   "source": [
    "import pandas as pd  \n",
    "  \n",
    "# 读取数据    \n",
    "data = pd.read_csv(R\"C:\\\\Users\\\\86181\\\\Desktop\\\\xuyanli\\\\data\\\\类别变量练习数据 (2).csv\", encoding='gbk')  \n",
    "print(data.head())\n"
   ]
  },
  {
   "cell_type": "code",
   "execution_count": null,
   "metadata": {},
   "outputs": [],
   "source": [
    "# 父亲工作的饼图  \n",
    "from matplotlib import pyplot as plt\n",
    "\n",
    "\n",
    "parent_jobs = data[\"父亲工作\"].value_counts()  \n",
    "fig, ax = plt.subplots()  \n",
    "ax.pie(parent_jobs, labels=parent_jobs.index, autopct='%1.1f%%')  \n",
    "ax.set_title(\"父亲工作分布\")  \n",
    "plt.show()\n",
    "print(data)\n"
   ]
  },
  {
   "cell_type": "code",
   "execution_count": null,
   "metadata": {},
   "outputs": [],
   "source": [
    "# 母亲工作的饼图  \n",
    "from matplotlib import pyplot as plt\n",
    "\n",
    "\n",
    "parent_jobs = data[\"母亲工作\"].value_counts()  \n",
    "fig, ax = plt.subplots()  \n",
    "ax.pie(parent_jobs, labels=parent_jobs.index, autopct='%1.1f%%')  \n",
    "ax.set_title(\"母亲工作分布\")  \n",
    "plt.show()\n",
    "print(data)\n"
   ]
  },
  {
   "cell_type": "code",
   "execution_count": null,
   "metadata": {},
   "outputs": [],
   "source": [
    "cross_tab = pd.crosstab(data[\"父亲工作\"], data[\"母亲工作\"])  \n",
    "print(cross_tab)\n"
   ]
  },
  {
   "cell_type": "code",
   "execution_count": null,
   "metadata": {},
   "outputs": [],
   "source": [
    "# 计算Cramer's V系数  \n",
    "from scipy.stats import chi2_contingency  \n",
    "stat, p, dof, expected = chi2_contingency(cross_tab)  \n",
    "n = cross_tab.sum().sum()  \n",
    "k = cross_tab.shape[0] * cross_tab.shape[1]  # 校正自由度的数目  \n",
    "phi2 = stat / n  # Pearson's chi-squared statistic  \n",
    "r = ((phi2 / k) - (1 / (k - 1))) ** 0.5  # Cramer's V coefficient  \n",
    "print(f\"Cramer's V系数: {r:.2f}\")\n"
   ]
  },
  {
   "cell_type": "code",
   "execution_count": null,
   "metadata": {},
   "outputs": [],
   "source": [
    "def p值判断(cramers_v_coefficient):  \n",
    "    # 在这里添加你的代码来计算和判断Cramer's V系数  \n",
    "    # 例如：  \n",
    "    if cramers_v_coefficient < 0.05:  \n",
    "        return \"显著\"  \n",
    "    elif cramers_v_coefficient < 0.01:  \n",
    "        return \"非常显著\"  \n",
    "    else:  \n",
    "        return \"不显著\""
   ]
  },
  {
   "cell_type": "code",
   "execution_count": null,
   "metadata": {},
   "outputs": [],
   "source": [
    "print(FR\"决定系数r平方:{r*r :0.4f}\")\n",
    "print(决定系数强弱判断(r*r))\n",
    "print(F\"p值:{p: .4f}\")\n",
    "print(p值判断(p))\n"
   ]
  },
  {
   "cell_type": "code",
   "execution_count": null,
   "metadata": {},
   "outputs": [],
   "source": [
    "def 决定系数强弱判断(决定系数: float):\n",
    "    \"\"\" \n",
    "    <0.25       <0.06\t    微弱相关或不相关\n",
    "    0.25≤≤0.5\t0.06≤≤0.25\t低度相关\n",
    "    0.5≤≤0.75\t0.25≤≤0.56\t中度相关\n",
    "    >0.75\t    >0.56\t     高度相关 \n",
    "    \"\"\"\n",
    "    if 决定系数 > 0.56:\n",
    "        return \"高度相关\"\n",
    "    elif 决定系数 > 0.25:\n",
    "        return \"中度相关\"\n",
    "    elif 决定系数 > 0.26:\n",
    "        return \"低度相关\"\n",
    "    else:\n",
    "        return \"微弱相关或不相关\""
   ]
  },
  {
   "cell_type": "code",
   "execution_count": null,
   "metadata": {},
   "outputs": [],
   "source": [
    "def 相关比率强弱判断(相关比率: float):\n",
    "    \"\"\" \n",
    "    小于 0.01\t微弱相关或不相关\n",
    "    [0.01-0.06]\t低度相关\n",
    "    [0.06-0.14]\t中度相关\n",
    "    [0.14-0.99]\t高度相关\n",
    "    1\t        完全相关\n",
    "    \"\"\"\n",
    "    if 相关比率 > 0.14:\n",
    "        return \"高度相关\"\n",
    "    elif 相关比率 > 0.06:\n",
    "        return \"中度相关\"\n",
    "    elif 相关比率 > 0.01:\n",
    "        return \"低度相关\"\n",
    "    else:\n",
    "        return \"微弱相关或不相关\""
   ]
  },
  {
   "cell_type": "code",
   "execution_count": null,
   "metadata": {},
   "outputs": [],
   "source": [
    "import pandas as pd  \n",
    "  \n",
    "# 假设你的数据集名为data  \n",
    "data[\"父亲职业\"] = pd.to_numeric(data[\"父亲职业\"], errors='coerce')  \n",
    "data[\"母亲职业\"] = pd.to_numeric(data[\"母亲职业\"], errors='coerce')  \n",
    "  \n",
    "# 现在可以计算相关系数了  \n",
    "corr = data[\"父亲职业\"].corr(data[\"母亲职业\"])  \n",
    "print(F\"父亲职业与母亲职业的相关系数为: {corr}\")  \n",
    "  \n",
    "# 将相关系数转换为百分比形式并做出解释  \n",
    "correlation_percentage = corr * 100  \n",
    "print(F\"所以，父亲职业与母亲职业的相关系数为 {correlation_percentage:.2f}%。\")  # 保留两位小数并输出"
   ]
  },
  {
   "cell_type": "code",
   "execution_count": null,
   "metadata": {},
   "outputs": [],
   "source": [
    "import pandas as pd\n",
    "# 计算相关系数  \n",
    "corr = data[\"父亲职业\"].corr(data[\"母亲职业\"])  \n",
    "print(F\"父亲职业与母亲职业的相关系数为: {corr}\")  \n",
    "  \n",
    "# 将相关系数转换为百分比形式并做出解释  \n",
    "correlation_percentage = corr * 100  # 将相关系数转换为百分比形式  \n",
    "print(F\"所以，父亲职业与母亲职业的相关系数为 {correlation_percentage:.2f}%。\")  # 保留两位小数并输出"
   ]
  },
  {
   "cell_type": "code",
   "execution_count": null,
   "metadata": {},
   "outputs": [],
   "source": []
  },
  {
   "cell_type": "code",
   "execution_count": null,
   "metadata": {},
   "outputs": [],
   "source": [
    "import pandas as pd  \n",
    "import numpy as np  \n",
    "import matplotlib.pyplot as plt  \n",
    "  \n",
    "# 读取CSV文件  \n",
    "data = pd.read_csv('C:\\\\Users\\\\86181\\\\Desktop\\\\xuyanli\\\\data\\\\类别变量练习数据 (2).csv', encoding='gbk')\n",
    "# 查看数据的前几行  \n",
    "print(data.head())"
   ]
  },
  {
   "cell_type": "code",
   "execution_count": null,
   "metadata": {},
   "outputs": [],
   "source": [
    "import pandas as pd  \n",
    "import matplotlib.pyplot as plt  \n",
    "  \n",
    "# 读取CSV文件  \n",
    "df = pd.read_csv('C:\\\\Users\\\\86181\\\\Desktop\\\\xuyanli\\\\data\\\\类别变量练习数据 (2).csv', encoding='gbk')  \n",
    "  \n",
    "# 提取'父亲职业'列的数据  \n",
    "data_for_pie = df['父亲职业']  \n",
    "  \n",
    "# 创建数据  \n",
    "labels = ['国企', '民企', '个体户', '公务员', '事业单位', '家庭主妇（夫）', '居委会']  \n",
    "  \n",
    "# 创建饼图  \n",
    "fig, ax = plt.subplots()  \n",
    "ax.pie(data_for_pie.value_counts(), labels=data_for_pie.unique(), autopct='%1.1f%%')  \n",
    "ax.axis('equal')  # 使饼图呈现圆形  \n",
    "  \n",
    "# 显示单位  \n",
    "sizes = data_for_pie.value_counts()  \n",
    "for i, label in enumerate(labels):  \n",
    "    if i < len(sizes):  # 添加这一行来确保索引不会超出范围  \n",
    "        ax.annotate(f'{label}({sizes[i]}个)', xy=(0, 0), xytext=(sizes[i] / 2, 0), textcoords=\"offset points\", ha='center')  \n",
    "    else:  \n",
    "        break  # 如果索引超出范围，结束循环  \n",
    "  \n",
    "plt.title('父亲职业分布')  \n",
    "plt.show()"
   ]
  },
  {
   "cell_type": "code",
   "execution_count": null,
   "metadata": {},
   "outputs": [],
   "source": [
    "import pandas as pd  \n",
    "  \n",
    "# 读取CSV文件  \n",
    "df = pd.read_csv('C:\\\\Users\\\\86181\\\\Desktop\\\\xuyanli\\\\data\\\\类别变量练习数据 (2).csv', encoding='gbk')  \n",
    "  \n",
    "# 提取'母亲职业'列的数据  \n",
    "data_for_pie = df['母亲职业']  \n",
    "  \n",
    "# 获取唯一的职业类别  \n",
    "unique_jobs = data_for_pie.unique()  \n",
    "  \n",
    "# 创建标签列表  \n",
    "labels = []  \n",
    "for job in unique_jobs:  \n",
    "    # 根据职业类别生成标签  \n",
    "    if job == '国企':  \n",
    "        labels.append('国有企业')  \n",
    "    elif job == '民企':  \n",
    "        labels.append('民营企业')  \n",
    "    elif job == '个体户':  \n",
    "        labels.append('个体户')  \n",
    "    elif job == '公务员':  \n",
    "        labels.append('公务员')  \n",
    "    elif job == '事业单位':  \n",
    "        labels.append('事业单位')  \n",
    "    elif job == '家庭主妇（夫）':  \n",
    "        labels.append('家庭主妇/夫')  \n",
    "    elif job == '居委会':  \n",
    "        labels.append('居委会/社区工作人员')  \n",
    "  \n",
    "# 创建饼图  \n",
    "fig, ax = plt.subplots()  \n",
    "ax.pie(data_for_pie.value_counts(), labels=labels, autopct='%1.1f%%')  \n",
    "ax.axis('equal')  # 使饼图呈现圆形  \n",
    "  \n",
    "# 显示单位  \n",
    "sizes = data_for_pie.value_counts()  \n",
    "for i, label in enumerate(labels):  \n",
    "    if i < len(sizes):  # 添加这一行来确保索引不会超出范围  \n",
    "        ax.annotate(f'{label}({sizes[i]}个)', xy=(0, 0), xytext=(sizes[i] / 2, 0), textcoords=\"offset points\", ha='center')    \n",
    "    else:    \n",
    "        break  # 如果索引超出范围，结束循环  \n",
    "  \n",
    "plt.title('母亲职业分布')  \n",
    "plt.show()"
   ]
  },
  {
   "cell_type": "code",
   "execution_count": null,
   "metadata": {},
   "outputs": [],
   "source": [
    "# 创建交叉表  \n",
    "cross_table = pd.crosstab(data['父亲职业'], data['母亲职业'])  \n",
    "print(cross_table)"
   ]
  },
  {
   "cell_type": "code",
   "execution_count": null,
   "metadata": {},
   "outputs": [],
   "source": [
    "# 计算相关系数  \n",
    "corr = data[['父亲职业', '母亲职业']].corr(method='pearson')  \n",
    "print(FR\"父亲职业与母亲职业的相关系数为: {corr}\")"
   ]
  },
  {
   "cell_type": "code",
   "execution_count": null,
   "metadata": {},
   "outputs": [],
   "source": []
  },
  {
   "cell_type": "code",
   "execution_count": null,
   "metadata": {},
   "outputs": [],
   "source": [
    "import pandas as pd  \n",
    "import matplotlib.pyplot as plt"
   ]
  },
  {
   "cell_type": "code",
   "execution_count": null,
   "metadata": {},
   "outputs": [],
   "source": [
    "data = pd.read_csv(R'C:\\\\Users\\\\86181\\\\Desktop\\\\xuyanli\\\\data\\\\类别变量练习数据 (2).csv', encoding='gbk')"
   ]
  },
  {
   "cell_type": "code",
   "execution_count": null,
   "metadata": {},
   "outputs": [],
   "source": [
    "print(data.columns)"
   ]
  },
  {
   "cell_type": "code",
   "execution_count": null,
   "metadata": {},
   "outputs": [],
   "source": [
    "plt.figure(figsize=(10, 6))  \n",
    "plt.pie(data['父亲职业'].value_counts(), labels=data['父亲职业'].unique(), autopct='%1.1f%%', startangle=90)  \n",
    "plt.title('父亲职业分布')  \n",
    "plt.axis('equal')  # 使饼图呈现圆形  \n",
    "plt.show()"
   ]
  },
  {
   "cell_type": "code",
   "execution_count": null,
   "metadata": {},
   "outputs": [],
   "source": [
    "data.columns = data.columns.str.strip()"
   ]
  },
  {
   "cell_type": "code",
   "execution_count": null,
   "metadata": {},
   "outputs": [],
   "source": [
    "# 母亲工作的饼图  \n",
    "from matplotlib import pyplot as plt\n",
    "\n",
    "\n",
    "parent_jobs = data[\"母亲工作\"].value_counts()  \n",
    "fig, ax = plt.subplots()  \n",
    "ax.pie(parent_jobs, labels=parent_jobs.index, autopct='%1.1f%%')  \n",
    "ax.set_title(\"母亲工作分布\")  \n",
    "plt.show()\n",
    "print(data)\n"
   ]
  },
  {
   "cell_type": "code",
   "execution_count": null,
   "metadata": {},
   "outputs": [],
   "source": [
    "cross_table = pd.crosstab(data['父亲职业'], data['母亲职业'])  \n",
    "print(cross_table)"
   ]
  },
  {
   "cell_type": "code",
   "execution_count": null,
   "metadata": {},
   "outputs": [],
   "source": [
    "data = data.apply(pd.to_numeric, errors='coerce')"
   ]
  },
  {
   "cell_type": "code",
   "execution_count": null,
   "metadata": {},
   "outputs": [],
   "source": [
    "corr = data[['父亲职业', '母亲职业']].corr()  \n",
    "print(\"父亲职业与母亲职业的相关系数为:\", corr)"
   ]
  }
 ],
 "metadata": {
  "kernelspec": {
   "display_name": "Python 3",
   "language": "python",
   "name": "python3"
  },
  "language_info": {
   "codemirror_mode": {
    "name": "ipython",
    "version": 3
   },
   "file_extension": ".py",
   "mimetype": "text/x-python",
   "name": "python",
   "nbconvert_exporter": "python",
   "pygments_lexer": "ipython3",
   "version": "3.8.10"
  }
 },
 "nbformat": 4,
 "nbformat_minor": 2
}
