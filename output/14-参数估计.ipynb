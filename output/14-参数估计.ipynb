{
 "cells": [
  {
   "cell_type": "code",
   "execution_count": 8,
   "metadata": {},
   "outputs": [],
   "source": [
    "import pandas as pd\n",
    "from scipy import stats\n",
    "# 打开数据文件\n",
    "file_path = R\"C:\\Users\\86181\\Desktop\\xuyanli\\data\\movie_data_cleaned.csv\"\n",
    "df_movies = pd.read_csv(file_path)\n"
   ]
  },
  {
   "cell_type": "code",
   "execution_count": 9,
   "metadata": {},
   "outputs": [
    {
     "name": "stdout",
     "output_type": "stream",
     "text": [
      "均值： 7.20\n",
      "均值在置信水平0.95下的置信区间为： (7.171337577138237, 7.2214184794700635)\n"
     ]
    }
   ],
   "source": [
    "# 计算均值和标准误差\n",
    "mean = df_movies['average'].mean()\n",
    "std_error = stats.sem(df_movies['average'])\n",
    "# 设定置信水平\n",
    "confidence_level = 0.95\n",
    "# 设定自由度\n",
    "df = len(df_movies['average']) - 1\n",
    "# 计算置信区间\n",
    "confidence_interval = stats.t.interval(confidence_level, df, loc=mean, scale=std_error)\n",
    "# 输出结果\n",
    "print(F\"均值：{mean: .2f}\")\n",
    "print(F\"均值在置信水平{confidence_level}下的置信区间为：\", confidence_interval)"
   ]
  },
  {
   "cell_type": "code",
   "execution_count": 10,
   "metadata": {},
   "outputs": [
    {
     "name": "stdout",
     "output_type": "stream",
     "text": [
      "变量的均值大约为：7.20,95.0% 置信区间：(7.17, 7.22)\n"
     ]
    }
   ],
   "source": [
    "# 使用sample函数实现随机抽取\n",
    "import pandas as pd  \n",
    "import numpy as np  \n",
    "from scipy import stats  \n",
    "  \n",
    "# 请使用正常的单引号或双引号来表示文件路径  \n",
    "file_path = 'C:\\\\Users\\\\86181\\\\Desktop\\\\xuyanli\\\\data\\\\movie_data_cleaned.csv'  \n",
    "data = pd.read_csv(file_path)  \n",
    "  \n",
    "# 从数据框中选择'average'列  \n",
    "data = data['average']  \n",
    "  \n",
    "# 指定置信水平和自由度（通常自由度为样本大小减去1）  \n",
    "confidence_level = 0.95  \n",
    "df_degrees_of_freedom = len(data) - 1  # 使用len(data)来获取数据的长度（样本大小）  \n",
    "  \n",
    "# 使用pandas的mean方法计算样本均值  \n",
    "sample_mean = data.mean()  \n",
    "  \n",
    "# 使用pandas的var方法计算样本方差  \n",
    "sample_variance = data.var()  \n",
    "  \n",
    "# 使用stats.t.interval函数计算置信区间  \n",
    "confidence_interval = stats.t.interval(confidence_level, df_degrees_of_freedom, loc=sample_mean, scale=np.sqrt(sample_variance / len(data)))  \n",
    "  \n",
    "# 打印总体均值的置信区间  \n",
    "print(f\"变量的均值大约为：{sample_mean:.2f},{confidence_level * 100}% 置信区间：({confidence_interval[0]:.2f}, {confidence_interval[1]:.2f})\")"
   ]
  },
  {
   "cell_type": "code",
   "execution_count": 11,
   "metadata": {},
   "outputs": [
    {
     "name": "stdout",
     "output_type": "stream",
     "text": [
      "变量的均值大约为：7.20,95.0% 置信区间：(7.09, 7.51)\n"
     ]
    }
   ],
   "source": [
    "# 再计算抽取样本的均值的置信区间\n",
    "import pandas as pd  \n",
    "import numpy as np  \n",
    "from scipy import stats  \n",
    "  \n",
    "# 请使用正常的单引号或双引号来表示文件路径  \n",
    "file_path = 'C:\\\\Users\\\\86181\\\\Desktop\\\\xuyanli\\\\data\\\\movie_data_cleaned.csv'  \n",
    "data = pd.read_csv(file_path)  \n",
    "  \n",
    "# 从数据框中选择'average'列  \n",
    "data = data['average']  \n",
    "  \n",
    "# 指定置信水平和自由度（通常自由度为样本大小减去1）  \n",
    "confidence_level = 0.95  \n",
    "df_degrees_of_freedom = len(data) - 1  # 使用len(data)来获取数据的长度（样本大小）  \n",
    "  \n",
    "# 计算样本的均值  \n",
    "sample_mean = data.mean()  \n",
    "  \n",
    "# 使用numpy的random模块从数据中随机抽取样本  \n",
    "sample_size = 100  # 需要抽取的样本数量  \n",
    "sample = data.sample(n=sample_size)  \n",
    "  \n",
    "# 计算样本的均值和方差  \n",
    "sample_mean_from_sample = sample.mean()  \n",
    "sample_variance_from_sample = sample.var()  \n",
    "  \n",
    "# 使用stats.t.interval函数计算置信区间  \n",
    "confidence_interval = stats.t.interval(confidence_level, df_degrees_of_freedom, loc=sample_mean_from_sample, scale=np.sqrt(sample_variance_from_sample / sample_size))  \n",
    "  \n",
    "# 打印总体均值的置信区间  \n",
    "print(f\"变量的均值大约为：{sample_mean:.2f},{confidence_level * 100}% 置信区间：({confidence_interval[0]:.2f}, {confidence_interval[1]:.2f})\")"
   ]
  },
  {
   "cell_type": "code",
   "execution_count": 13,
   "metadata": {},
   "outputs": [
    {
     "name": "stdout",
     "output_type": "stream",
     "text": [
      "随机抽取的100行数据的平均值为:7.26\n",
      "置信水平为0.95时,随机抽取的100行数据的均值置信区间为:(7.004535052142004, 7.513464947857993)\n"
     ]
    }
   ],
   "source": [
    "import pandas as pd  \n",
    "from scipy import stats  \n",
    "  \n",
    "# 打开数据文件  \n",
    "file_path ='C:\\\\Users\\\\86181\\\\Desktop\\\\xuyanli\\\\data\\\\movie_data_cleaned.csv'    # 使用双反斜杠代替反斜杠  \n",
    "df_movies = pd.read_csv(file_path)  \n",
    "  \n",
    "# 从数据集中随机抽取100行数据  \n",
    "sample = df_movies.sample(100)  \n",
    "  \n",
    "# 计算抽样数据的平均值  \n",
    "mean = sample['average'].mean()  \n",
    "  \n",
    "# 计算标准误  \n",
    "std_error = stats.sem(sample['average'])  \n",
    "  \n",
    "# 设置置信水平  \n",
    "confidence_level = 0.95  \n",
    "  \n",
    "# 设置自由度  \n",
    "df = len(sample['average']) - 1  \n",
    "  \n",
    "# 计算置信区间  \n",
    "confidence_interval = stats.t.interval(confidence_level, df, loc=mean, scale=std_error)  \n",
    "  \n",
    "# 输出结果  \n",
    "print(f\"随机抽取的100行数据的平均值为:{mean:.2f}\")  \n",
    "print(f\"置信水平为{confidence_level}时,随机抽取的100行数据的均值置信区间为:{confidence_interval}\")"
   ]
  }
 ],
 "metadata": {
  "kernelspec": {
   "display_name": "Python 3",
   "language": "python",
   "name": "python3"
  },
  "language_info": {
   "codemirror_mode": {
    "name": "ipython",
    "version": 3
   },
   "file_extension": ".py",
   "mimetype": "text/x-python",
   "name": "python",
   "nbconvert_exporter": "python",
   "pygments_lexer": "ipython3",
   "version": "3.8.10"
  }
 },
 "nbformat": 4,
 "nbformat_minor": 2
}
