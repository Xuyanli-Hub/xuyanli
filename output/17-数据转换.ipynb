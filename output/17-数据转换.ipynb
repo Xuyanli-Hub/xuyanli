{
 "cells": [
  {
   "cell_type": "code",
   "execution_count": 1,
   "metadata": {},
   "outputs": [],
   "source": [
    "import pandas as pd\n"
   ]
  },
  {
   "cell_type": "code",
   "execution_count": 2,
   "metadata": {},
   "outputs": [
    {
     "name": "stdout",
     "output_type": "stream",
     "text": [
      "从字符串中提取的多位数字: [1234, 5678]\n"
     ]
    }
   ],
   "source": [
    "# 初始化字符串\n",
    "input_string = \"这是一个包含1234和5678的字符串\"\n",
    "\n",
    "# 使用isdigit()方法提取多位数字\n",
    "number = ''\n",
    "result = []\n",
    "for char in input_string:\n",
    "    if char.isdigit():\n",
    "        number += char\n",
    "    else:\n",
    "        if number:\n",
    "            result.append(int(number))\n",
    "            number = ''\n",
    "if number:\n",
    "    result.append(int(number))\n",
    "\n",
    "print(\"从字符串中提取的多位数字:\", result)"
   ]
  },
  {
   "cell_type": "code",
   "execution_count": 3,
   "metadata": {},
   "outputs": [
    {
     "name": "stdout",
     "output_type": "stream",
     "text": [
      "从字符串中提取的数字: ['1234', '5678']\n"
     ]
    }
   ],
   "source": [
    "import re\n",
    "\n",
    "# 初始化字符串\n",
    "input_string = \"这是一个包含1234和5678的字符串\"\n",
    "\n",
    "# 使用正则表达式提取数字\n",
    "result = re.findall(r'\\d+', input_string)\n",
    "print(\"从字符串中提取的数字:\", result)"
   ]
  },
  {
   "cell_type": "code",
   "execution_count": 4,
   "metadata": {},
   "outputs": [
    {
     "ename": "NameError",
     "evalue": "name 'df_movie' is not defined",
     "output_type": "error",
     "traceback": [
      "\u001b[1;31m---------------------------------------------------------------------------\u001b[0m",
      "\u001b[1;31mNameError\u001b[0m                                 Traceback (most recent call last)",
      "\u001b[1;32mc:\\Users\\86181\\Desktop\\xuyanli\\output\\17-数据转换.ipynb 单元格 4\u001b[0m line \u001b[0;36m1\n\u001b[1;32m----> <a href='vscode-notebook-cell:/c%3A/Users/86181/Desktop/xuyanli/output/17-%E6%95%B0%E6%8D%AE%E8%BD%AC%E6%8D%A2.ipynb#W4sZmlsZQ%3D%3D?line=0'>1</a>\u001b[0m movie[\u001b[39m'\u001b[39m\u001b[39m时长\u001b[39m\u001b[39m'\u001b[39m] \u001b[39m=\u001b[39m df_movie[\u001b[39m'\u001b[39m\u001b[39mruntime\u001b[39m\u001b[39m'\u001b[39m]\u001b[39m.\u001b[39mapply(提取数据)\n",
      "\u001b[1;31mNameError\u001b[0m: name 'df_movie' is not defined"
     ]
    }
   ],
   "source": [
    "movie['时长'] = df_movie['runtime'].apply(提取数据)"
   ]
  },
  {
   "cell_type": "code",
   "execution_count": 7,
   "metadata": {},
   "outputs": [
    {
     "name": "stdout",
     "output_type": "stream",
     "text": [
      "125分钟\n"
     ]
    }
   ],
   "source": [
    "s = '125分钟'\n",
    "result = s\n",
    "print(result)"
   ]
  },
  {
   "cell_type": "code",
   "execution_count": 8,
   "metadata": {},
   "outputs": [
    {
     "name": "stdout",
     "output_type": "stream",
     "text": [
      "笑傲江湖\n"
     ]
    }
   ],
   "source": [
    "s = '笑傲江湖'\n",
    "result = s\n",
    "print(result)"
   ]
  },
  {
   "cell_type": "code",
   "execution_count": 9,
   "metadata": {},
   "outputs": [
    {
     "name": "stdout",
     "output_type": "stream",
     "text": [
      "笑看人生\n"
     ]
    }
   ],
   "source": [
    "s = '笑看人生'\n",
    "result = s\n",
    "print(result)"
   ]
  },
  {
   "cell_type": "code",
   "execution_count": null,
   "metadata": {},
   "outputs": [],
   "source": [
    "s = '2017-05-05(中国大陆)'\n",
    "print((s))"
   ]
  },
  {
   "cell_type": "code",
   "execution_count": 10,
   "metadata": {},
   "outputs": [
    {
     "name": "stdout",
     "output_type": "stream",
     "text": [
      "拆分后的结果: ['苹果', '香蕉', '西瓜', '橙子']\n"
     ]
    }
   ],
   "source": [
    "# 初始化字符串\n",
    "input_string = \"苹果,香蕉,西瓜,橙子\"\n",
    "\n",
    "# 使用split()方法按照逗号拆分字符串\n",
    "result = input_string.split(',')\n",
    "print(\"拆分后的结果:\", result)"
   ]
  },
  {
   "cell_type": "code",
   "execution_count": 11,
   "metadata": {},
   "outputs": [
    {
     "name": "stdout",
     "output_type": "stream",
     "text": [
      "提取的内容: 美国\n"
     ]
    }
   ],
   "source": [
    "# 初始化字符串\n",
    "input_string = \"美国/中国\"\n",
    "\n",
    "# 使用split()方法按照\"/\"拆分字符串并提取前面的内容\n",
    "result = input_string.split('/')[0]\n",
    "print(\"提取的内容:\", result)"
   ]
  },
  {
   "cell_type": "code",
   "execution_count": 12,
   "metadata": {},
   "outputs": [
    {
     "name": "stdout",
     "output_type": "stream",
     "text": [
      "提取的内容: 苹果\n"
     ]
    }
   ],
   "source": [
    "# 初始化字符串\n",
    "input_string = \"香蕉/苹果/菠萝\"\n",
    "\n",
    "# 使用split()方法按照\"/\"拆分字符串并提取前面的内容\n",
    "result = input_string.split('/')[1]\n",
    "print(\"提取的内容:\", result)"
   ]
  },
  {
   "cell_type": "code",
   "execution_count": 13,
   "metadata": {},
   "outputs": [],
   "source": [
    "import mytools"
   ]
  },
  {
   "cell_type": "code",
   "execution_count": 14,
   "metadata": {},
   "outputs": [],
   "source": [
    "国家认同数据表 = mytools.读取SPSS数据文件(R'C:\\Users\\86181\\Desktop\\xuyanli\\data\\identity.sav')"
   ]
  },
  {
   "cell_type": "code",
   "execution_count": 15,
   "metadata": {},
   "outputs": [],
   "source": [
    "国家认同数据表.dropna(how='any',inplace=True)"
   ]
  },
  {
   "cell_type": "code",
   "execution_count": 16,
   "metadata": {},
   "outputs": [
    {
     "data": {
      "text/plain": [
       "Index(['问卷编号', '调查员', '民族', '政治面貌', '年级', '典型中国人', '中国人特点', 'v1', 'v2', 'v3',\n",
       "       'v4', '你是否了解重活民族的传统节日', 'v5', '您觉得中国怎么样', '您认为中国有多少值得自豪的地方',\n",
       "       '您认为世界有多少比例的人尊重中国', '对您而言作为一名中国人有多重要', '会以中国人自豪吗', '会隐瞒身份吗', '会打多少分',\n",
       "       '国歌升起', '世博会', '中国传统文化', '发展信心', '你会为中国运动员呐喊助威', '遇到灾难时中国人应该伸出援手',\n",
       "       '你愿意加入其他国籍吗', '中国人要为祖国统一奋斗吗'],\n",
       "      dtype='object')"
      ]
     },
     "execution_count": 16,
     "metadata": {},
     "output_type": "execute_result"
    }
   ],
   "source": [
    "国家认同数据表.columns"
   ]
  },
  {
   "cell_type": "code",
   "execution_count": 17,
   "metadata": {},
   "outputs": [
    {
     "ename": "TypeError",
     "evalue": "'set' object is not callable",
     "output_type": "error",
     "traceback": [
      "\u001b[1;31m---------------------------------------------------------------------------\u001b[0m",
      "\u001b[1;31mTypeError\u001b[0m                                 Traceback (most recent call last)",
      "\u001b[1;32mc:\\Users\\86181\\Desktop\\xuyanli\\output\\17-数据转换.ipynb 单元格 16\u001b[0m line \u001b[0;36m1\n\u001b[1;32m----> <a href='vscode-notebook-cell:/c%3A/Users/86181/Desktop/xuyanli/output/17-%E6%95%B0%E6%8D%AE%E8%BD%AC%E6%8D%A2.ipynb#X22sZmlsZQ%3D%3D?line=0'>1</a>\u001b[0m 国家认同数据表\u001b[39m.\u001b[39;49mrename(columns\u001b[39m=\u001b[39;49m{\u001b[39m'\u001b[39;49m\u001b[39m中国传统文化\u001b[39;49m\u001b[39m'\u001b[39;49m},inplace\u001b[39m=\u001b[39;49m\u001b[39mTrue\u001b[39;49;00m)\n",
      "File \u001b[1;32mc:\\Users\\86181\\AppData\\Local\\Programs\\Python\\Python38\\lib\\site-packages\\pandas\\core\\frame.py:5432\u001b[0m, in \u001b[0;36mDataFrame.rename\u001b[1;34m(self, mapper, index, columns, axis, copy, inplace, level, errors)\u001b[0m\n\u001b[0;32m   5313\u001b[0m \u001b[39mdef\u001b[39;00m \u001b[39mrename\u001b[39m(\n\u001b[0;32m   5314\u001b[0m     \u001b[39mself\u001b[39m,\n\u001b[0;32m   5315\u001b[0m     mapper: Renamer \u001b[39m|\u001b[39m \u001b[39mNone\u001b[39;00m \u001b[39m=\u001b[39m \u001b[39mNone\u001b[39;00m,\n\u001b[1;32m   (...)\u001b[0m\n\u001b[0;32m   5323\u001b[0m     errors: IgnoreRaise \u001b[39m=\u001b[39m \u001b[39m\"\u001b[39m\u001b[39mignore\u001b[39m\u001b[39m\"\u001b[39m,\n\u001b[0;32m   5324\u001b[0m ) \u001b[39m-\u001b[39m\u001b[39m>\u001b[39m DataFrame \u001b[39m|\u001b[39m \u001b[39mNone\u001b[39;00m:\n\u001b[0;32m   5325\u001b[0m \u001b[39m    \u001b[39m\u001b[39m\"\"\"\u001b[39;00m\n\u001b[0;32m   5326\u001b[0m \u001b[39m    Rename columns or index labels.\u001b[39;00m\n\u001b[0;32m   5327\u001b[0m \n\u001b[1;32m   (...)\u001b[0m\n\u001b[0;32m   5430\u001b[0m \u001b[39m    4  3  6\u001b[39;00m\n\u001b[0;32m   5431\u001b[0m \u001b[39m    \"\"\"\u001b[39;00m\n\u001b[1;32m-> 5432\u001b[0m     \u001b[39mreturn\u001b[39;00m \u001b[39msuper\u001b[39;49m()\u001b[39m.\u001b[39;49m_rename(\n\u001b[0;32m   5433\u001b[0m         mapper\u001b[39m=\u001b[39;49mmapper,\n\u001b[0;32m   5434\u001b[0m         index\u001b[39m=\u001b[39;49mindex,\n\u001b[0;32m   5435\u001b[0m         columns\u001b[39m=\u001b[39;49mcolumns,\n\u001b[0;32m   5436\u001b[0m         axis\u001b[39m=\u001b[39;49maxis,\n\u001b[0;32m   5437\u001b[0m         copy\u001b[39m=\u001b[39;49mcopy,\n\u001b[0;32m   5438\u001b[0m         inplace\u001b[39m=\u001b[39;49minplace,\n\u001b[0;32m   5439\u001b[0m         level\u001b[39m=\u001b[39;49mlevel,\n\u001b[0;32m   5440\u001b[0m         errors\u001b[39m=\u001b[39;49merrors,\n\u001b[0;32m   5441\u001b[0m     )\n",
      "File \u001b[1;32mc:\\Users\\86181\\AppData\\Local\\Programs\\Python\\Python38\\lib\\site-packages\\pandas\\core\\generic.py:1034\u001b[0m, in \u001b[0;36mNDFrame._rename\u001b[1;34m(self, mapper, index, columns, axis, copy, inplace, level, errors)\u001b[0m\n\u001b[0;32m   1027\u001b[0m         missing_labels \u001b[39m=\u001b[39m [\n\u001b[0;32m   1028\u001b[0m             label\n\u001b[0;32m   1029\u001b[0m             \u001b[39mfor\u001b[39;00m index, label \u001b[39min\u001b[39;00m \u001b[39menumerate\u001b[39m(replacements)\n\u001b[0;32m   1030\u001b[0m             \u001b[39mif\u001b[39;00m indexer[index] \u001b[39m==\u001b[39m \u001b[39m-\u001b[39m\u001b[39m1\u001b[39m\n\u001b[0;32m   1031\u001b[0m         ]\n\u001b[0;32m   1032\u001b[0m         \u001b[39mraise\u001b[39;00m \u001b[39mKeyError\u001b[39;00m(\u001b[39mf\u001b[39m\u001b[39m\"\u001b[39m\u001b[39m{\u001b[39;00mmissing_labels\u001b[39m}\u001b[39;00m\u001b[39m not found in axis\u001b[39m\u001b[39m\"\u001b[39m)\n\u001b[1;32m-> 1034\u001b[0m new_index \u001b[39m=\u001b[39m ax\u001b[39m.\u001b[39;49m_transform_index(f, level\u001b[39m=\u001b[39;49mlevel)\n\u001b[0;32m   1035\u001b[0m result\u001b[39m.\u001b[39m_set_axis_nocheck(new_index, axis\u001b[39m=\u001b[39maxis_no, inplace\u001b[39m=\u001b[39m\u001b[39mTrue\u001b[39;00m, copy\u001b[39m=\u001b[39m\u001b[39mFalse\u001b[39;00m)\n\u001b[0;32m   1036\u001b[0m result\u001b[39m.\u001b[39m_clear_item_cache()\n",
      "File \u001b[1;32mc:\\Users\\86181\\AppData\\Local\\Programs\\Python\\Python38\\lib\\site-packages\\pandas\\core\\indexes\\base.py:6207\u001b[0m, in \u001b[0;36mIndex._transform_index\u001b[1;34m(self, func, level)\u001b[0m\n\u001b[0;32m   6205\u001b[0m     \u001b[39mreturn\u001b[39;00m \u001b[39mtype\u001b[39m(\u001b[39mself\u001b[39m)\u001b[39m.\u001b[39mfrom_arrays(values)\n\u001b[0;32m   6206\u001b[0m \u001b[39melse\u001b[39;00m:\n\u001b[1;32m-> 6207\u001b[0m     items \u001b[39m=\u001b[39m [func(x) \u001b[39mfor\u001b[39;00m x \u001b[39min\u001b[39;00m \u001b[39mself\u001b[39m]\n\u001b[0;32m   6208\u001b[0m     \u001b[39mreturn\u001b[39;00m Index(items, name\u001b[39m=\u001b[39m\u001b[39mself\u001b[39m\u001b[39m.\u001b[39mname, tupleize_cols\u001b[39m=\u001b[39m\u001b[39mFalse\u001b[39;00m)\n",
      "File \u001b[1;32mc:\\Users\\86181\\AppData\\Local\\Programs\\Python\\Python38\\lib\\site-packages\\pandas\\core\\indexes\\base.py:6207\u001b[0m, in \u001b[0;36m<listcomp>\u001b[1;34m(.0)\u001b[0m\n\u001b[0;32m   6205\u001b[0m     \u001b[39mreturn\u001b[39;00m \u001b[39mtype\u001b[39m(\u001b[39mself\u001b[39m)\u001b[39m.\u001b[39mfrom_arrays(values)\n\u001b[0;32m   6206\u001b[0m \u001b[39melse\u001b[39;00m:\n\u001b[1;32m-> 6207\u001b[0m     items \u001b[39m=\u001b[39m [func(x) \u001b[39mfor\u001b[39;00m x \u001b[39min\u001b[39;00m \u001b[39mself\u001b[39m]\n\u001b[0;32m   6208\u001b[0m     \u001b[39mreturn\u001b[39;00m Index(items, name\u001b[39m=\u001b[39m\u001b[39mself\u001b[39m\u001b[39m.\u001b[39mname, tupleize_cols\u001b[39m=\u001b[39m\u001b[39mFalse\u001b[39;00m)\n",
      "\u001b[1;31mTypeError\u001b[0m: 'set' object is not callable"
     ]
    }
   ],
   "source": [
    "国家认同数据表.rename(columns={'中国传统文化'},inplace=True)"
   ]
  },
  {
   "cell_type": "code",
   "execution_count": 18,
   "metadata": {},
   "outputs": [],
   "source": [
    "国家认同数据表['认知维度'] = 国家认同数据表['中国人要为祖国统一奋斗吗']"
   ]
  },
  {
   "cell_type": "code",
   "execution_count": 19,
   "metadata": {},
   "outputs": [
    {
     "data": {
      "text/plain": [
       "0        一般般\n",
       "1       较有特点\n",
       "2      非常有特点\n",
       "3      非常有特点\n",
       "4       较有特点\n",
       "       ...  \n",
       "860     较有特点\n",
       "861     较有特点\n",
       "862     较有特点\n",
       "863    非常有特点\n",
       "864     较有特点\n",
       "Name: 中国人特点, Length: 858, dtype: category\n",
       "Categories (5, object): ['毫无特点' < '较无特点' < '一般般' < '较有特点' < '非常有特点']"
      ]
     },
     "execution_count": 19,
     "metadata": {},
     "output_type": "execute_result"
    }
   ],
   "source": [
    "国家认同数据表.中国人特点"
   ]
  },
  {
   "cell_type": "code",
   "execution_count": 20,
   "metadata": {},
   "outputs": [
    {
     "data": {
      "text/plain": [
       "0      2\n",
       "1      3\n",
       "2      4\n",
       "3      4\n",
       "4      3\n",
       "      ..\n",
       "860    3\n",
       "861    3\n",
       "862    3\n",
       "863    4\n",
       "864    3\n",
       "Length: 858, dtype: int8"
      ]
     },
     "execution_count": 20,
     "metadata": {},
     "output_type": "execute_result"
    }
   ],
   "source": [
    "国家认同数据表.中国人特点.cat.codes"
   ]
  },
  {
   "cell_type": "code",
   "execution_count": null,
   "metadata": {},
   "outputs": [],
   "source": [
    "国家认同数据表['认知维度'] = 国家认同数据表['中国人要为祖国统一奋斗吗'].cat.codes\n",
    "+国家认同数据表['典型中国人'].cat.codes\n",
    "+国家认同数据表['v5'].cat.codes"
   ]
  },
  {
   "cell_type": "code",
   "execution_count": 21,
   "metadata": {},
   "outputs": [
    {
     "name": "stdout",
     "output_type": "stream",
     "text": [
      "-1\n",
      "笑看人生\n"
     ]
    }
   ],
   "source": [
    "print(s.find('in'))\n",
    "print(s.replace('g', 'gs'))  # 虽然显示字符串已被替换，但实际上是一个新的字符串。"
   ]
  },
  {
   "cell_type": "code",
   "execution_count": 22,
   "metadata": {},
   "outputs": [
    {
     "data": {
      "text/plain": [
       "True"
      ]
     },
     "execution_count": 22,
     "metadata": {},
     "output_type": "execute_result"
    }
   ],
   "source": [
    ">>> \"tim\" == \"tie\"\n",
    "False\n",
    ">>> \"free\" != \"freedom\"\n",
    "True\n",
    ">>> \"arrow\" > \"aron\"\n",
    "True\n",
    ">>> \"green\" >= \"glow\"\n",
    "True\n",
    ">>> \"green\" < \"glow\"\n",
    "False\n",
    ">>> \"green\" <= \"glow\"\n",
    "False\n",
    ">>> \"ab\" <= \"abc\"\n",
    "True"
   ]
  },
  {
   "cell_type": "code",
   "execution_count": 23,
   "metadata": {},
   "outputs": [
    {
     "name": "stdout",
     "output_type": "stream",
     "text": [
      "转换后的数字: 54321\n"
     ]
    }
   ],
   "source": [
    "# 初始化数字\n",
    "number = 12345\n",
    "\n",
    "# 使用字符串切片将数字转换为54321\n",
    "reversed_number = int(str(number)[::-1])\n",
    "print(\"转换后的数字:\", reversed_number)\n"
   ]
  }
 ],
 "metadata": {
  "kernelspec": {
   "display_name": "Python 3",
   "language": "python",
   "name": "python3"
  },
  "language_info": {
   "codemirror_mode": {
    "name": "ipython",
    "version": 3
   },
   "file_extension": ".py",
   "mimetype": "text/x-python",
   "name": "python",
   "nbconvert_exporter": "python",
   "pygments_lexer": "ipython3",
   "version": "3.8.10"
  }
 },
 "nbformat": 4,
 "nbformat_minor": 2
}
