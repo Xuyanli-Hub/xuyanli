{
 "cells": [
  {
   "cell_type": "code",
   "execution_count": null,
   "metadata": {},
   "outputs": [],
   "source": [
    "# 将 NaN 值替换成0\n",
    "df_filled = df.fillna('1')\n",
    "df_filled"
   ]
  },
  {
   "cell_type": "code",
   "execution_count": 11,
   "metadata": {},
   "outputs": [
    {
     "name": "stdout",
     "output_type": "stream",
     "text": [
      "Index([ 69, 183, 184, 294, 347, 374, 394, 412, 448, 467, 498, 561, 566, 595,\n",
      "       612, 615, 625, 643, 742, 745, 757, 769, 777, 813, 819, 824, 829, 836,\n",
      "       843, 848],\n",
      "      dtype='int64')\n"
     ]
    }
   ],
   "source": [
    "import pandas\n",
    "\n",
    "# 打开SPSS文件\n",
    "df_raw = pandas.read_spss(r'C:\\Users\\86181\\Desktop\\xuyanli\\identity.sav')\n",
    "\n",
    "# 使用query\n",
    "condition = '会以中国人自豪吗==\"会\" and 会隐瞒身份吗==\"一定会\"'\n",
    "\n",
    "# 取得逻辑不一致数据的序号列表\n",
    "result = df_raw.query(condition).index\n",
    "\n",
    "print(result)"
   ]
  }
 ],
 "metadata": {
  "kernelspec": {
   "display_name": "Python 3",
   "language": "python",
   "name": "python3"
  },
  "language_info": {
   "codemirror_mode": {
    "name": "ipython",
    "version": 3
   },
   "file_extension": ".py",
   "mimetype": "text/x-python",
   "name": "python",
   "nbconvert_exporter": "python",
   "pygments_lexer": "ipython3",
   "version": "3.8.10"
  }
 },
 "nbformat": 4,
 "nbformat_minor": 2
}
