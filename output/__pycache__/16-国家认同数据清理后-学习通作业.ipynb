{
 "cells": [
  {
   "cell_type": "code",
   "execution_count": 4,
   "metadata": {},
   "outputs": [],
   "source": [
    "import pandas as pd\n"
   ]
  },
  {
   "cell_type": "code",
   "execution_count": 9,
   "metadata": {},
   "outputs": [
    {
     "ename": "ValueError",
     "evalue": "Excel file format cannot be determined, you must specify an engine manually.",
     "output_type": "error",
     "traceback": [
      "\u001b[1;31m---------------------------------------------------------------------------\u001b[0m",
      "\u001b[1;31mValueError\u001b[0m                                Traceback (most recent call last)",
      "\u001b[1;32mc:\\Users\\86181\\Desktop\\xuyanli\\output\\__pycache__\\16-国家认同数据清理后-学习通作业.ipynb 单元格 2\u001b[0m line \u001b[0;36m3\n\u001b[0;32m      <a href='vscode-notebook-cell:/c%3A/Users/86181/Desktop/xuyanli/output/__pycache__/16-%E5%9B%BD%E5%AE%B6%E8%AE%A4%E5%90%8C%E6%95%B0%E6%8D%AE%E6%B8%85%E7%90%86%E5%90%8E-%E5%AD%A6%E4%B9%A0%E9%80%9A%E4%BD%9C%E4%B8%9A.ipynb#W3sZmlsZQ%3D%3D?line=0'>1</a>\u001b[0m \u001b[39mimport\u001b[39;00m \u001b[39mpandas\u001b[39;00m \u001b[39mas\u001b[39;00m \u001b[39mpd\u001b[39;00m\n\u001b[0;32m      <a href='vscode-notebook-cell:/c%3A/Users/86181/Desktop/xuyanli/output/__pycache__/16-%E5%9B%BD%E5%AE%B6%E8%AE%A4%E5%90%8C%E6%95%B0%E6%8D%AE%E6%B8%85%E7%90%86%E5%90%8E-%E5%AD%A6%E4%B9%A0%E9%80%9A%E4%BD%9C%E4%B8%9A.ipynb#W3sZmlsZQ%3D%3D?line=1'>2</a>\u001b[0m file_path_excel \u001b[39m=\u001b[39m \u001b[39mR\u001b[39m\u001b[39m'\u001b[39m\u001b[39mC:\u001b[39m\u001b[39m\\\u001b[39m\u001b[39mUsers\u001b[39m\u001b[39m\\\u001b[39m\u001b[39m86181\u001b[39m\u001b[39m\\\u001b[39m\u001b[39mDesktop\u001b[39m\u001b[39m\\\u001b[39m\u001b[39mxuyanli\u001b[39m\u001b[39m\\\u001b[39m\u001b[39mdata\u001b[39m\u001b[39m\\\u001b[39m\u001b[39m国家认同数据清理后.sav\u001b[39m\u001b[39m'\u001b[39m\n\u001b[1;32m----> <a href='vscode-notebook-cell:/c%3A/Users/86181/Desktop/xuyanli/output/__pycache__/16-%E5%9B%BD%E5%AE%B6%E8%AE%A4%E5%90%8C%E6%95%B0%E6%8D%AE%E6%B8%85%E7%90%86%E5%90%8E-%E5%AD%A6%E4%B9%A0%E9%80%9A%E4%BD%9C%E4%B8%9A.ipynb#W3sZmlsZQ%3D%3D?line=2'>3</a>\u001b[0m df_excel \u001b[39m=\u001b[39m pd\u001b[39m.\u001b[39;49mread_excel(file_path_excel)\n\u001b[0;32m      <a href='vscode-notebook-cell:/c%3A/Users/86181/Desktop/xuyanli/output/__pycache__/16-%E5%9B%BD%E5%AE%B6%E8%AE%A4%E5%90%8C%E6%95%B0%E6%8D%AE%E6%B8%85%E7%90%86%E5%90%8E-%E5%AD%A6%E4%B9%A0%E9%80%9A%E4%BD%9C%E4%B8%9A.ipynb#W3sZmlsZQ%3D%3D?line=3'>4</a>\u001b[0m \u001b[39m# 创建民族、年级和政治面貌的交互表\u001b[39;00m\n\u001b[0;32m      <a href='vscode-notebook-cell:/c%3A/Users/86181/Desktop/xuyanli/output/__pycache__/16-%E5%9B%BD%E5%AE%B6%E8%AE%A4%E5%90%8C%E6%95%B0%E6%8D%AE%E6%B8%85%E7%90%86%E5%90%8E-%E5%AD%A6%E4%B9%A0%E9%80%9A%E4%BD%9C%E4%B8%9A.ipynb#W3sZmlsZQ%3D%3D?line=4'>5</a>\u001b[0m cross_tab \u001b[39m=\u001b[39m pd\u001b[39m.\u001b[39mcrosstab(index\u001b[39m=\u001b[39m[df_excel[\u001b[39m'\u001b[39m\u001b[39m民族\u001b[39m\u001b[39m'\u001b[39m], df_excel[\u001b[39m'\u001b[39m\u001b[39m年级\u001b[39m\u001b[39m'\u001b[39m]], \n\u001b[0;32m      <a href='vscode-notebook-cell:/c%3A/Users/86181/Desktop/xuyanli/output/__pycache__/16-%E5%9B%BD%E5%AE%B6%E8%AE%A4%E5%90%8C%E6%95%B0%E6%8D%AE%E6%B8%85%E7%90%86%E5%90%8E-%E5%AD%A6%E4%B9%A0%E9%80%9A%E4%BD%9C%E4%B8%9A.ipynb#W3sZmlsZQ%3D%3D?line=5'>6</a>\u001b[0m  columns\u001b[39m=\u001b[39mdf_excel[\u001b[39m'\u001b[39m\u001b[39m政治面貌\u001b[39m\u001b[39m'\u001b[39m], \n\u001b[0;32m      <a href='vscode-notebook-cell:/c%3A/Users/86181/Desktop/xuyanli/output/__pycache__/16-%E5%9B%BD%E5%AE%B6%E8%AE%A4%E5%90%8C%E6%95%B0%E6%8D%AE%E6%B8%85%E7%90%86%E5%90%8E-%E5%AD%A6%E4%B9%A0%E9%80%9A%E4%BD%9C%E4%B8%9A.ipynb#W3sZmlsZQ%3D%3D?line=6'>7</a>\u001b[0m   margins\u001b[39m=\u001b[39m\u001b[39mTrue\u001b[39;00m,normalize\u001b[39m=\u001b[39m\u001b[39mTrue\u001b[39;00m) \u001b[39m# All 行和列的总和\u001b[39;00m\n",
      "File \u001b[1;32mc:\\Users\\86181\\AppData\\Local\\Programs\\Python\\Python38\\lib\\site-packages\\pandas\\io\\excel\\_base.py:478\u001b[0m, in \u001b[0;36mread_excel\u001b[1;34m(io, sheet_name, header, names, index_col, usecols, dtype, engine, converters, true_values, false_values, skiprows, nrows, na_values, keep_default_na, na_filter, verbose, parse_dates, date_parser, date_format, thousands, decimal, comment, skipfooter, storage_options, dtype_backend)\u001b[0m\n\u001b[0;32m    476\u001b[0m \u001b[39mif\u001b[39;00m \u001b[39mnot\u001b[39;00m \u001b[39misinstance\u001b[39m(io, ExcelFile):\n\u001b[0;32m    477\u001b[0m     should_close \u001b[39m=\u001b[39m \u001b[39mTrue\u001b[39;00m\n\u001b[1;32m--> 478\u001b[0m     io \u001b[39m=\u001b[39m ExcelFile(io, storage_options\u001b[39m=\u001b[39;49mstorage_options, engine\u001b[39m=\u001b[39;49mengine)\n\u001b[0;32m    479\u001b[0m \u001b[39melif\u001b[39;00m engine \u001b[39mand\u001b[39;00m engine \u001b[39m!=\u001b[39m io\u001b[39m.\u001b[39mengine:\n\u001b[0;32m    480\u001b[0m     \u001b[39mraise\u001b[39;00m \u001b[39mValueError\u001b[39;00m(\n\u001b[0;32m    481\u001b[0m         \u001b[39m\"\u001b[39m\u001b[39mEngine should not be specified when passing \u001b[39m\u001b[39m\"\u001b[39m\n\u001b[0;32m    482\u001b[0m         \u001b[39m\"\u001b[39m\u001b[39man ExcelFile - ExcelFile already has the engine set\u001b[39m\u001b[39m\"\u001b[39m\n\u001b[0;32m    483\u001b[0m     )\n",
      "File \u001b[1;32mc:\\Users\\86181\\AppData\\Local\\Programs\\Python\\Python38\\lib\\site-packages\\pandas\\io\\excel\\_base.py:1500\u001b[0m, in \u001b[0;36mExcelFile.__init__\u001b[1;34m(self, path_or_buffer, engine, storage_options)\u001b[0m\n\u001b[0;32m   1496\u001b[0m     ext \u001b[39m=\u001b[39m inspect_excel_format(\n\u001b[0;32m   1497\u001b[0m         content_or_path\u001b[39m=\u001b[39mpath_or_buffer, storage_options\u001b[39m=\u001b[39mstorage_options\n\u001b[0;32m   1498\u001b[0m     )\n\u001b[0;32m   1499\u001b[0m     \u001b[39mif\u001b[39;00m ext \u001b[39mis\u001b[39;00m \u001b[39mNone\u001b[39;00m:\n\u001b[1;32m-> 1500\u001b[0m         \u001b[39mraise\u001b[39;00m \u001b[39mValueError\u001b[39;00m(\n\u001b[0;32m   1501\u001b[0m             \u001b[39m\"\u001b[39m\u001b[39mExcel file format cannot be determined, you must specify \u001b[39m\u001b[39m\"\u001b[39m\n\u001b[0;32m   1502\u001b[0m             \u001b[39m\"\u001b[39m\u001b[39man engine manually.\u001b[39m\u001b[39m\"\u001b[39m\n\u001b[0;32m   1503\u001b[0m         )\n\u001b[0;32m   1505\u001b[0m engine \u001b[39m=\u001b[39m config\u001b[39m.\u001b[39mget_option(\u001b[39mf\u001b[39m\u001b[39m\"\u001b[39m\u001b[39mio.excel.\u001b[39m\u001b[39m{\u001b[39;00mext\u001b[39m}\u001b[39;00m\u001b[39m.reader\u001b[39m\u001b[39m\"\u001b[39m, silent\u001b[39m=\u001b[39m\u001b[39mTrue\u001b[39;00m)\n\u001b[0;32m   1506\u001b[0m \u001b[39mif\u001b[39;00m engine \u001b[39m==\u001b[39m \u001b[39m\"\u001b[39m\u001b[39mauto\u001b[39m\u001b[39m\"\u001b[39m:\n",
      "\u001b[1;31mValueError\u001b[0m: Excel file format cannot be determined, you must specify an engine manually."
     ]
    }
   ],
   "source": [
    "import pandas as pd\n",
    "file_path_excel = R'C:\\Users\\86181\\Desktop\\xuyanli\\data\\国家认同数据清理后.sav'\n",
    "df_excel = pd.read_excel(file_path_excel)\n",
    "# 创建民族、年级和政治面貌的交互表\n",
    "cross_tab = pd.crosstab(index=[df_excel['民族'], df_excel['年级']], \n",
    " columns=df_excel['政治面貌'], \n",
    "  margins=True,normalize=True) # All 行和列的总和\n",
    "\n",
    "cross_tab"
   ]
  },
  {
   "cell_type": "code",
   "execution_count": null,
   "metadata": {},
   "outputs": [],
   "source": [
    "from scipy import stats\n",
    "# 假设我们关注的是第二年级的学生（假设年级用数字“2”表示）\n",
    "specific_grade = 2\n",
    "\n",
    "# 筛选出特定年级的数据\n",
    "df_specific_grade = df_excel[df_excel['年级'] == specific_grade]\n",
    "\n",
    "# 创建政治面貌和会打多少分的交互表\n",
    "cross_tab_specific_grade = pd.crosstab(df_specific_grade['会打多少分'], df_specific_grade['政治面貌'])\n",
    "\n",
    "# 进行卡方检验\n",
    "chi2_grade, p_grade, dof_grade, expected_grade = stats.chi2_contingency(cross_tab_specific_grade)\n",
    "\n",
    "print(chi2_grade,p_grade)\n",
    "# chi2_grade, p_grade, dof_grade, expected_grade[:10]  # 展示期望频次的前10个结果，避免过长的输出"
   ]
  },
  {
   "cell_type": "code",
   "execution_count": null,
   "metadata": {},
   "outputs": [],
   "source": [
    "import pandas as pd\n",
    "file_path_excel = R'C:\\Users\\86181\\Desktop\\xuyanli\\data\\国家认同数据清理后.sav'"
   ]
  },
  {
   "cell_type": "code",
   "execution_count": null,
   "metadata": {},
   "outputs": [],
   "source": [
    "df_excel = pd.read_excel(file_path_excel)\n",
    "# 创建年级、政治面貌和会打多少分的交互表\n",
    "cross_tab = pd.crosstab(index=[df_excel['年级'], df_excel['会打多少分']], \n",
    "                        columns=df_excel['政治面貌'], \n",
    "                        margins=True, normalize=True)  # All 行和列的总和\n",
    "\n",
    "cross_tab\n"
   ]
  },
  {
   "cell_type": "code",
   "execution_count": null,
   "metadata": {},
   "outputs": [],
   "source": [
    "# 创建政治面貌和会打多少分的交互表\n",
    "cross_tab_specific_grade = pd.crosstab(df_excel['会打多少分'], df_excel['政治面貌'])\n",
    "\n",
    "# 进行卡方检验\n",
    "chi2_grade, p_grade, dof_grade, expected_grade = stats.chi2_contingency(cross_tab_specific_grade)\n",
    "print(chi2_grade, p_grade)\n"
   ]
  },
  {
   "cell_type": "code",
   "execution_count": null,
   "metadata": {},
   "outputs": [],
   "source": [
    "数据表 = pd.read_excel(file_path_excel)\n",
    "# 创建民族、年级和政治面貌的交互表\n",
    "cross_tab = pd.crosstab(index=[数据表['会隐瞒身份吗'], 数据表['年级']], \n",
    "                        columns=数据表['政治面貌'], \n",
    "                        margins=True,normalize=True)  # All 行和列的总和\n",
    "\n",
    "cross_tab"
   ]
  },
  {
   "cell_type": "code",
   "execution_count": null,
   "metadata": {},
   "outputs": [],
   "source": [
    "数据表 = mytools.读取SPSS数据文件(R'C:\\Users\\86181\\Desktop\\xuyanli\\data\\国家认同数据清理后.sav',True)\n",
    "数据表.columns"
   ]
  }
 ],
 "metadata": {
  "kernelspec": {
   "display_name": "Python 3",
   "language": "python",
   "name": "python3"
  },
  "language_info": {
   "codemirror_mode": {
    "name": "ipython",
    "version": 3
   },
   "file_extension": ".py",
   "mimetype": "text/x-python",
   "name": "python",
   "nbconvert_exporter": "python",
   "pygments_lexer": "ipython3",
   "version": "3.8.10"
  }
 },
 "nbformat": 4,
 "nbformat_minor": 2
}
