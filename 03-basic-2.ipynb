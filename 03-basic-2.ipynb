{
 "cells": [
  {
   "cell_type": "code",
   "execution_count": null,
   "metadata": {},
   "outputs": [],
   "source": [
    "print('3+2='+str(3+2))\n",
    "print('3-2='+str(3-2))\n",
    "print('3*2='+str(3*2))\n",
    "print('3/2='+str(3/2))\n",
    "print('3//2='+str(3//2))"
   ]
  },
  {
   "cell_type": "markdown",
   "metadata": {},
   "source": [
    "count=0\n",
    "count+=1\n",
    "count"
   ]
  },
  {
   "cell_type": "markdown",
   "metadata": {},
   "source": []
  },
  {
   "cell_type": "code",
   "execution_count": null,
   "metadata": {},
   "outputs": [],
   "source": [
    "count=0\n",
    "count+=1\n",
    "count"
   ]
  },
  {
   "cell_type": "code",
   "execution_count": null,
   "metadata": {},
   "outputs": [],
   "source": [
    " 天气='晴空万里'\n",
    " if 天气=='下雨':\n",
    "    print('不去上课睡觉.')\n",
    " else:\n",
    "    print('继续睡觉')\n",
    "   "
   ]
  },
  {
   "cell_type": "code",
   "execution_count": null,
   "metadata": {},
   "outputs": [],
   "source": [
    "score = 85  \n",
    "  \n",
    "if score >= 90:  \n",
    "    print(\"优秀\")  \n",
    "elif score >= 80:  \n",
    "    print(\"良好\")  \n",
    "elif score >= 70:  \n",
    "    print(\"中等\")  \n",
    "elif score >= 60:  \n",
    "    print(\"及格\")  \n",
    "else:  \n",
    "    print(\"不及格\")"
   ]
  }
 ],
 "metadata": {
  "kernelspec": {
   "display_name": "Python 3",
   "language": "python",
   "name": "python3"
  },
  "language_info": {
   "codemirror_mode": {
    "name": "ipython",
    "version": 3
   },
   "file_extension": ".py",
   "mimetype": "text/x-python",
   "name": "python",
   "nbconvert_exporter": "python",
   "pygments_lexer": "ipython3",
   "version": "3.8.10"
  },
  "orig_nbformat": 4
 },
 "nbformat": 4,
 "nbformat_minor": 2
}
